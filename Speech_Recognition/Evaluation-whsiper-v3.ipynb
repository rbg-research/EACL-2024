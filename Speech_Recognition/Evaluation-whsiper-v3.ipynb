{
 "cells": [
  {
   "cell_type": "code",
   "execution_count": 10,
   "id": "6ce2a4ad-138c-4853-9c19-1a13d8cb11c9",
   "metadata": {},
   "outputs": [
    {
     "name": "stderr",
     "output_type": "stream",
     "text": [
      "Special tokens have been added in the vocabulary, make sure the associated word embeddings are fine-tuned or trained.\n"
     ]
    }
   ],
   "source": [
    "import os\n",
    "import soundfile as sf\n",
    "from transformers import Wav2Vec2ForCTC, Wav2Vec2Processor\n",
    "import torch\n",
    "import librosa\n",
    "import torch\n",
    "from transformers import WhisperProcessor, WhisperForConditionalGeneration\n",
    "\n",
    "# Directory containing audio files\n",
    "audio_dir = \"/Testing/\"    # replace with your test directory\n",
    "# Directory to store text files\n",
    "output_dir = \"check\"  \n",
    "\n",
    "# Get list of audio files in the directory\n",
    "audio_files = os.listdir(audio_dir)\n",
    "\n",
    "# Create the output directory if it doesn't exist\n",
    "os.makedirs(output_dir, exist_ok=True)\n",
    "\n",
    "# Load the pretrained model and processor\n",
    "processor = WhisperProcessor.from_pretrained(\"/pretrainedwhisper-medium-native-v3\")\n",
    "model = WhisperForConditionalGeneration.from_pretrained(\"/pretrainedwhisper-medium-native-v3\").to(\"cuda\")\n",
    "\n",
    "# Set the target sample rate\n",
    "target_sample_rate = 16000  # Replace with your desired sample rate\n",
    "\n",
    "# Process each audio file and save transcriptions in text files\n",
    "for audio_file in audio_files:\n",
    "    # Load audio file and resample to the target sample rate\n",
    "    audio_input, _ = librosa.load(os.path.join(audio_dir, audio_file), sr=target_sample_rate, mono=True)\n",
    "\n",
    "    # Preprocess the audio using the processor\n",
    "    inputs = processor(audio_input, return_tensors=\"pt\", sampling_rate=target_sample_rate).input_features\n",
    "    # Perform inference\n",
    "    with torch.no_grad():\n",
    "        predicted_ids = model.generate(inputs.to(\"cuda\"))[0]\n",
    "\n",
    "        transcription = processor.decode(predicted_ids)\n",
    "        pred = processor.tokenizer._normalize(transcription)\n",
    "\n",
    "\n",
    "    # Create a text file with the same name as the audio file in the output directoryz\n",
    "    text_file_name = os.path.splitext(audio_file)[0] + \".txt\"\n",
    "    with open(os.path.join(output_dir, text_file_name), \"w\", encoding=\"utf-8\") as text_file:\n",
    "        text_file.write(transcription)"
   ]
  },
  {
   "cell_type": "code",
   "execution_count": null,
   "id": "925e5694-b9d8-4cc0-8b0c-4200869428c2",
   "metadata": {},
   "outputs": [],
   "source": []
  }
 ],
 "metadata": {
  "kernelspec": {
   "display_name": "Python 3 (ipykernel)",
   "language": "python",
   "name": "python3"
  },
  "language_info": {
   "codemirror_mode": {
    "name": "ipython",
    "version": 3
   },
   "file_extension": ".py",
   "mimetype": "text/x-python",
   "name": "python",
   "nbconvert_exporter": "python",
   "pygments_lexer": "ipython3",
   "version": "3.10.9"
  }
 },
 "nbformat": 4,
 "nbformat_minor": 5
}
